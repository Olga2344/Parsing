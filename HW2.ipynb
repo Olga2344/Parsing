{
 "cells": [
  {
   "cell_type": "code",
   "execution_count": 2,
   "id": "a785d7aa",
   "metadata": {},
   "outputs": [],
   "source": [
    "from pprint import pprint\n",
    "from lxml import html\n",
    "import requests"
   ]
  },
  {
   "cell_type": "code",
   "execution_count": 266,
   "id": "73c7b924",
   "metadata": {},
   "outputs": [
    {
     "data": {
      "text/plain": [
       "'https://lenta.ru/'"
      ]
     },
     "execution_count": 266,
     "metadata": {},
     "output_type": "execute_result"
    }
   ],
   "source": [
    "headers = {\n",
    "    'User-Agent':\t'Mozilla/5.0 (Windows NT 10.0; Win64; x64; rv:104.0) Gecko/20100101 Firefox/104.0',\n",
    "}\n",
    "url = 'https://lenta.ru/'\n",
    "response = requests.get(url, headers=headers)\n",
    "response.url"
   ]
  },
  {
   "cell_type": "code",
   "execution_count": 267,
   "id": "d3f37822",
   "metadata": {},
   "outputs": [],
   "source": [
    "dom = html.fromstring(response.text)\n",
    "news =  dom.xpath(\"//section[1]/div/div[@class='topnews']/div/a/div/span/text()\")"
   ]
  },
  {
   "cell_type": "code",
   "execution_count": 268,
   "id": "7c2845b0",
   "metadata": {},
   "outputs": [],
   "source": [
    "news_links=dom.xpath(\".//section[1]/div/div[@class='topnews']/div/a/@href\")"
   ]
  },
  {
   "cell_type": "code",
   "execution_count": 269,
   "id": "41a55044",
   "metadata": {},
   "outputs": [],
   "source": [
    "news_time=dom.xpath(\"//section[1]/div/div[@class='topnews']/div/a/div/div/time/text()\")"
   ]
  },
  {
   "cell_type": "code",
   "execution_count": 270,
   "id": "030d0618",
   "metadata": {},
   "outputs": [],
   "source": [
    "news_lent={}\n",
    "for i in range(len(news)):\n",
    "    if 'https' in news_links[i]:\n",
    "        new_lnk=news_links[i]\n",
    "    else:\n",
    "        new_lnk='https://lenta.ru'+news_links[i]\n",
    "        \n",
    "    news_lent[news[i]]={'link': new_lnk, 'time':news_time[i]}"
   ]
  },
  {
   "cell_type": "code",
   "execution_count": 271,
   "id": "b276cd71",
   "metadata": {},
   "outputs": [
    {
     "data": {
      "text/plain": [
       "{'Фьюри заявил о готовности провести бой против Джошуа': {'link': 'https://lenta.ru/news/2022/09/03/fury/',\n",
       "  'time': '22:27'},\n",
       " 'Названы способы защиты при встрече со стаей агрессивных собак': {'link': 'https://moslenta.ru/news/city/sposoby-zashity-03-09-2022.htm',\n",
       "  'time': '22:23'},\n",
       " 'В Новой Каховке сработала система ПВО': {'link': 'https://lenta.ru/news/2022/09/03/novkah/',\n",
       "  'time': '22:21'},\n",
       " 'Правозащитник заявил о жизни американцев в аду из-за войны Байдена с Россией': {'link': 'https://lenta.ru/news/2022/09/03/living_in_hell/',\n",
       "  'time': '22:10'},\n",
       " 'Переселенцам из Донбасса и Украины выделили более 10 миллиардов рублей': {'link': 'https://lenta.ru/news/2022/09/03/vyplaty/',\n",
       "  'time': '22:05'},\n",
       " 'Чемпионат мира 2023 года по стрельбе перенесли из России': {'link': 'https://lenta.ru/news/2022/09/03/issf/',\n",
       "  'time': '21:48'},\n",
       " 'Эрдоган пригрозил Греции «высокой ценой» в случае провокаций': {'link': 'https://lenta.ru/news/2022/09/03/high_price/',\n",
       "  'time': '21:34'},\n",
       " 'Украинская теннисистка вновь отказалась пожать руку белоруске после игры US Open': {'link': 'https://lenta.ru/news/2022/09/03/nohansshake/',\n",
       "  'time': '21:31'},\n",
       " 'Жители Праги потребовали дешевого газа': {'link': 'https://lenta.ru/news/2022/09/03/treba/',\n",
       "  'time': '21:27'},\n",
       " 'Названы три признака превращения США в банановую республику': {'link': 'https://lenta.ru/news/2022/09/03/banana/',\n",
       "  'time': '20:49'},\n",
       " 'В Грузии отменили выступления российских артистов': {'link': 'https://lenta.ru/news/2022/09/03/otmena/',\n",
       "  'time': '20:32'},\n",
       " 'Кадырову предрекли новую должность': {'link': 'https://lenta.ru/news/2022/09/03/kadyrov_work/',\n",
       "  'time': '19:20'}}"
      ]
     },
     "execution_count": 271,
     "metadata": {},
     "output_type": "execute_result"
    }
   ],
   "source": [
    "news_lent"
   ]
  },
  {
   "cell_type": "code",
   "execution_count": 243,
   "id": "520fbe0d",
   "metadata": {},
   "outputs": [
    {
     "data": {
      "text/plain": [
       "'https://yandex.ru/news/'"
      ]
     },
     "execution_count": 243,
     "metadata": {},
     "output_type": "execute_result"
    }
   ],
   "source": [
    "headers = {\n",
    "    'User-Agent':\t'Mozilla/5.0 (Windows NT 10.0; Win64; x64; rv:104.0) Gecko/20100101 Firefox/104.0',\n",
    "}\n",
    "url = 'https://yandex.ru/news/'\n",
    "response_y = requests.get(url, headers=headers)\n",
    "response_y.url"
   ]
  },
  {
   "cell_type": "code",
   "execution_count": 251,
   "id": "0f655300",
   "metadata": {},
   "outputs": [],
   "source": [
    "dom_y = html.fromstring(response_y.text)\n",
    "news_y =  dom.xpath(\"//div[@class='mg-card__annotation']/text()\")"
   ]
  },
  {
   "cell_type": "code",
   "execution_count": 254,
   "id": "a786addf",
   "metadata": {},
   "outputs": [],
   "source": [
    "news_links_y=dom.xpath(\"//div/h2/a/@href\")"
   ]
  },
  {
   "cell_type": "code",
   "execution_count": 256,
   "id": "25d83a66",
   "metadata": {},
   "outputs": [],
   "source": [
    "news_time_y=dom.xpath(\"//div/div/span[@class='mg-card-source__time']/text()\")"
   ]
  },
  {
   "cell_type": "code",
   "execution_count": 273,
   "id": "0de96670",
   "metadata": {},
   "outputs": [],
   "source": [
    "news_lent_y={}\n",
    "for i in range(len(news_y)):\n",
    "    if 'https' in news_links_y[i]:\n",
    "        new_lnk=news_links_y[i]\n",
    "    else:\n",
    "        new_lnk=news_links_y[i]\n",
    "        \n",
    "    news_lent_y[news_y[i]]={'link': new_lnk, 'time':news_time_y[i]}"
   ]
  },
  {
   "cell_type": "code",
   "execution_count": 274,
   "id": "a498822b",
   "metadata": {},
   "outputs": [
    {
     "data": {
      "text/plain": [
       "{'Вчера вечером Киев в очередной раз попытался захватить Запорожскую АЭС, несмотря на присутствие на станции представителей МАГАТЭ, заявило российское Минобороны.': {'link': 'https://yandex.ru/news/story/Minoborony_VSU_popytalis_zakhvatit_ZAEHS_posle_priezda_delegacii_MAGATEH--94116f83bf15b4de5874d9aeae8672b0?lang=ru&rubric=index&fan=1&stid=Ajt-irolvkLO223bN7pL&t=1662230792&tt=true&persistent_id=221563364&story=fbd46c1c-850d-5e1a-940c-20587cb26a46',\n",
       "  'time': '01:22'},\n",
       " 'Рамзан Кадыров заявил, что засиделся на посту главы Чечни и заслужил \"бессрочный и длинный отпуск\".': {'link': 'https://yandex.ru/news/story/Kadyrov_zayavil_chto_zasidelsya_napostu_glavy_CHechni_i_zasluzhil_bessrochnyj_otpusk--c56779f08d0933042a655d051f9d17bd?lang=ru&rubric=index&fan=1&stid=QwFW0_5B-bdjLyL4QTSV&t=1662230792&tt=true&persistent_id=221650542&story=54d218b1-a4de-5efa-8742-2958bfc82db0',\n",
       "  'time': '00:15'},\n",
       " 'Организаторы митинга «Чехия на первом месте!» на Вацлавской площади в Праге потребовали от властей обеспечение поставок дешевого газа.': {'link': 'https://yandex.ru/news/story/Ne_menee_70_tysyach_chelovek_vyshli_naulicy_Pragi_trebuya_deshevyj_gaz_izRossii--511fcdc4c8b537ea6bb1498346ed6c00?lang=ru&rubric=index&fan=1&stid=lBlKamIBdNn4QEnGXnTn&t=1662230792&tt=true&persistent_id=221652839&story=46483512-dc43-5be6-b909-8486a7e1b5a7',\n",
       "  'time': '01:33'},\n",
       " 'Экономист и эксперт в области энергетики из США Анас Альхаджи возмутился решением G7 ввести план предельной цены на нефть из России.': {'link': 'https://yandex.ru/news/story/EHkonomist_SSHA_Anas_Alkhadzhi_vozmutilsya_resheniem_G7_vvesti_limit_naneft_izRossii--2b622587d83dc3466ce5525dcf125c34?lang=ru&rubric=index&fan=1&stid=Wqcl88a2TK2vKMEG6P3P&t=1662230792&tt=true&persistent_id=221653627&story=d1431b2a-a3d6-5a4d-bb5e-ca98687c2bca',\n",
       "  'time': '01:22'},\n",
       " 'Президент Турции Реджеп Тайип Эрдоган, выступая на фестивале авиации, космонавтики и технологий Teknofest в городе Самсун на севере страны, обратился к властям Греции с призывом «вынести уроки из истории», сообщает агентство Anadolu.': {'link': 'https://yandex.ru/news/story/EHrdogan_poobeshhal_Grecii_vysokuyu_cenu_zaprovocirovanie_voennykh--6869c0c8ce44d9fd7763b11f849b1804?lang=ru&rubric=index&fan=1&stid=fyoE_WErVskse3sBYqKe&t=1662230792&tt=true&persistent_id=221650951&story=7e7d1a76-98b6-5383-9b4b-034da970a5ec',\n",
       "  'time': '01:38'},\n",
       " 'Пятеро туристов, погибших во время восхождения на Ключевской вулкан на Камчатке, рухнули с высоты, информацию подтвердили следователи.': {'link': 'https://yandex.ru/news/story/Prichinoj_smerti_turistov_naKlyuchevskom_vulkane_naKamchatke_stalo_padenie_svysoty--a826c5cedfc72d8582ebf8f75aa8c783?lang=ru&rubric=Russia&fan=1&stid=tu_hM-ouKvy1iaX2pfJT&t=1662230792&tt=true&persistent_id=221646469&story=f8c48f49-5408-5dbf-8219-b94eaccbcb76',\n",
       "  'time': '00:56'},\n",
       " 'На юго-западе Москвы погиб курьер, передвигавшийся на моноколесе.': {'link': 'https://yandex.ru/news/story/VMoskve_taksi_nasmert_sbilo_kurera_namonokolese--eeb448f341219ca373a03e1b1eb4675c?lang=ru&rubric=Russia&fan=1&stid=LCbySFclspNbdfSk0E6X&t=1662230792&tt=true&persistent_id=221653760&story=8e82c011-8c38-535b-bd86-b052491a6e5d',\n",
       "  'time': '01:38'},\n",
       " '«Краснодар» набрал 17 очков и сравнялся с лидирующим «Зенитом» по очкам в чемпионате России.': {'link': 'https://yandex.ru/sport/story/Krasnodar__Sochi_21--39d878b789bf0feba3bcf1540eccc29e?lang=ru&rubric=Russia&fan=1&stid=rCXlsFu8mx0El-Qr_ybA&t=1662230792&tt=true&persistent_id=221654858&story=0af86706-5722-5a89-9d5d-bdbb1963cb8f&utm_source=yxnews&utm_medium=desktop',\n",
       "  'time': '01:22'},\n",
       " 'Отмечается, что если подтвердится факт оскорбления, то комику может грозить штраф до 500 тысяч рублей или реальный срок от двух до пяти лет тюрьмы.': {'link': 'https://yandex.ru/news/story/Aleksandru_Gudkovu_mozhet_grozit_shtraf_ili_do5_let_tyurmy_zaparodiyu_naklip_YA_russkij--699f5b4673134b9cc3367fd7ff1af805?lang=ru&rubric=Russia&fan=1&stid=Y8ESEOZg7nJTjG0Lg19X&t=1662230792&tt=true&persistent_id=221652261&story=1c0a678d-44ba-554a-be8c-e5eafd40a332',\n",
       "  'time': '01:19'},\n",
       " 'Тимур Вайнштейн объяснил, как команде НТВ удается соблюсти механизм сохранения секретности в шоу «Маска» и «Аватар».': {'link': 'https://yandex.ru/news/story/Timur_Vajnshtejn_obyasnil_mekhanizm_sokhraneniya_sekretnosti_vshou_Maska_i_Avatar--d2ba2640136a4bfea2ebce014ae4ad88?lang=ru&rubric=Russia&fan=1&stid=ccBYUlphrAM93pu41unY&t=1662230792&persistent_id=221628518&story=771e2b18-83bd-514f-81f9-5081f34d4b4a',\n",
       "  'time': '00:31'},\n",
       " 'Известный ветеран АТО Владимир Прохнич, который в прошлые годы принимал участие в боевых действиях в Донбассе и стал дальше служить в рядах Вооруженных сил Украины (ВСУ) после начала спецоперации РФ на Украине, погиб в бою.': {'link': 'https://yandex.ru/news/story/Strana.ua_naUkraine_pogib_ugrozhavshij_kabminu_granatoj_veteran_VSU_Prokhnich--effcda9d28c904588d936eaa77ab06c0?lang=ru&rubric=personal_feed&fan=1&stid=VQOsdfy6GfjVTTCzEOeL&t=1662230792&tt=true&persistent_id=221654546&story=67a357fa-d3c5-526e-bc3c-46ada5553334',\n",
       "  'time': '01:27'},\n",
       " 'Десант ВСУ, который накануне вечером попытался высадиться на побережье Каховского водохранилища и захватить Запорожскую АЭС, прибыл на быстроходных катерах иностранного производства, сообщил РИА Новости боец с позывным Скиф, который участвовал в отражении атаки.': {'link': 'https://yandex.ru/news/story/RIA_Novosti_desant_VSU_pripopytke_shturma_EHnergodara_ispolzoval_zarubezhnye_katera--f4d2276c74c421d929c4ae2817318918?lang=ru&rubric=personal_feed&fan=1&stid=qinnLVo-dchJJ0ErMtWL&t=1662230792&tt=true&persistent_id=221650670&story=57411e1b-16f2-59bc-944c-b3910b6408a3',\n",
       "  'time': '01:16'},\n",
       " '\"Люди в США живут в аду, в то время как администрация Байдена только что запросила у конгресса еще 11 миллиардов на необъявленную войну США и НАТО с Россией\", — написал он.': {'link': 'https://yandex.ru/news/story/Pravozashhitnik_izSSHA_Baraka_amerikancy_zhivut_vadu_iz-zavojny_Bajdena_sRossiej--8bdafda2ff1fa3f838c34c4d8564e665?lang=ru&rubric=personal_feed&fan=1&stid=Rzq2jl9utdAdZ-ySDstR&t=1662230792&tt=true&persistent_id=221655547&story=e6d9188b-a708-52ba-9c75-12446b1e8fe2',\n",
       "  'time': '01:37'},\n",
       " 'Ситуация, развернувшаяся вокруг невыдачи виз членам российской делегации для участие в Генассамблеи ООН, показала, что штаб-квартиру организации пора переносить из США в нейтральную страну.': {'link': 'https://yandex.ru/news/story/Senator_Dzhabarov_prishlo_vremya_perenesti_shtab-kvartiru_OON_izSSHA_vdruguyu_stranu--10be70554b73f9475f156355277cf2af?lang=ru&rubric=personal_feed&fan=1&stid=_xCW4I7IBj7z9nap-y9m&t=1662230792&tt=true&persistent_id=221653747&story=d021bf97-b41d-5fb2-9bc0-5e3502ce602c',\n",
       "  'time': '00:58'},\n",
       " 'В Сети появились снимки военно-транспортного самолета С-17А, который находится на стоянке аэропорта.': {'link': 'https://yandex.ru/news/story/Vaehroportu_Nur-Sultana_zamechen_transportnoj_samolet_S-17A_VVS_SSHA--4ac1a7a2cfe0b633e41b345db6fbc0de?lang=ru&rubric=personal_feed&fan=1&stid=ABfqQrjTg6zoEiwkpcEu&t=1662230792&persistent_id=221642995&story=a6858582-e961-5eed-b431-5452f87d3614',\n",
       "  'time': '00:37'},\n",
       " 'Подача энергии с Запорожской АЭС на подконтрольную Киеву территорию приостановлена «в связи с техническими сложностями», заявили «РИА Новости» в военно-гражданской администрации (ВГА) Энергодара.': {'link': 'https://yandex.ru/news/story/VGA_EHnergodara_Podachu_ehnergii_sZAEHS_napodkontrolnye_Kievu_territorii_priostanovili--a097580bdf6420c6b3131d02b72b3247?lang=ru&rubric=politics&fan=1&stid=rVvDQ-Et6XzamCUoe60Y&t=1662230792&tt=true&persistent_id=221648911&story=7b083e1a-c94d-5fdb-908f-9f1fbefdfee4',\n",
       "  'time': '00:52'},\n",
       " 'Организаторы антиправительственного митинга, прошедшего в субботу в Праге, потребовали от кабинета министров во главе с Петром Фиалой подать в отставку до 25 сентября, пишет iDnes.': {'link': 'https://yandex.ru/news/story/Organizatory_massovykh_protestov_vPrage_potrebovali_otstavki_kabmina_CHekhii_do25_sentyabrya--7acd71ef94c31834f8065e6704d5b91f?lang=ru&rubric=politics&fan=1&stid=X6DT73OnnRmRrdtZeb2Y&t=1662230792&tt=true&persistent_id=221655173&story=f235c003-298a-531e-baff-41e5855fd80e',\n",
       "  'time': '01:38'},\n",
       " 'США ввели визовые ограничения для отдельных россиян, напомнил представитель Белого дома Джон Кирби, отметив, что подобные ограничения для всех россиян непродуктивны.': {'link': 'https://yandex.ru/news/story/Kirbi_SSHA_ne_schitayut_produktivnoj_meroj_vizovye_ogranicheniya_dlyavsekh_rossiyan--72ba2fa976a2c3713c35d23ce33356c6?lang=ru&rubric=politics&fan=1&stid=zHGU-4otknlhHVtP5gpB&t=1662230792&tt=true&persistent_id=221655609&story=3ca4e600-edba-547c-b94a-e0e3b1267bdd',\n",
       "  'time': '01:34'},\n",
       " 'Американский журналист Джей Шурк назвал три признака превращения США в банановую республику.': {'link': 'https://yandex.ru/news/story/ZHurnalist_SHurk_nazval_kult_levykh_vzglyadov_priznakom_dlyaSSHA_stat_bananovoj_respublikoj--a82f0070a249ade00221c4a4bacd9953?lang=ru&rubric=politics&fan=1&stid=3DRgqvUC19DVufmHDBuP&t=1662230792&tt=true&persistent_id=221596019&story=bad16029-60bf-56a3-b752-063dbc3d7395',\n",
       "  'time': '01:23'},\n",
       " 'Глава Донецкой Народной Республики Денис Пушилин объявил, что два чиновника Кировского района Донецка будут уволены, так как в грубой форме ответили на просьбу жителей помочь с решением проблемы водоснабжения.': {'link': 'https://yandex.ru/news/story/Glava_DNR_poruchil_uvolit_dvukh_chinovnikov_zagrubost_vobshhenii_szhitelyami_Donecka--c4b63bf70cdfaf92661994a5d011c021?lang=ru&rubric=politics&fan=1&stid=0zJ_GXm2ro8PjxSAhboh&t=1662230792&tt=true&persistent_id=221650074&story=08471e0f-bb3b-57f8-a198-acbc48171de7',\n",
       "  'time': '00:21'},\n",
       " 'Похороны бывшего президента СССР Михаила Горбачева состоялись в субботу на Новодевичьем кладбище.': {'link': 'https://yandex.ru/news/story/Mikhail_Gorbachev_pokhoronen_naNovodevichem_kladbishhe--bb2fe6d4a229420e49a234b2707759b0?lang=ru&rubric=society&fan=1&stid=QWV82EOtHaFS-uMGDwFU&t=1662230792&tt=true&persistent_id=221650626&story=d6226215-7b3a-538c-b317-632d2d03587e',\n",
       "  'time': '00:00'},\n",
       " '«ЗАЭС в очередной раз потеряла подключение к своей последней оставшейся основной внешней линии электропередачи, но объект продолжает подавать электроэнергию в сеть по резервной линии, МАГАТЭ было проинформировано об этом сегодня на месте»,— приводит AFP выдержку из сообщения агентства.': {'link': 'https://yandex.ru/news/story/MAGATEH_zayavilo_chto_ZAEHS_otklyuchena_otosnovnoj_linii_ehlektroperedachi--17455969afa6c4c4643e3a7e1969835e?lang=ru&rubric=society&fan=1&stid=P75W&t=1662230792&tt=true&persistent_id=221655817&story=c4c116ef-6764-5466-99d4-72bac5751d2a',\n",
       "  'time': '01:25'},\n",
       " 'Ранее 3 сентября компания «Газпром» заявила, что специалисты Siemens участвуют в ремонтных работах на газопроводе «Северный поток» в соответствии с действующим контрактом, находят имеющиеся неисправности, подписывают акты об обнаружении утечек масла и готовы все это устранять, однако дальше работы не продвигаются, однако дальше работы не продвигаются, потому что «ремонтировать негде».': {'link': 'https://yandex.ru/news/story/Reuters_soobshhilo_ovozobnovlenii_raboty_gazoprovoda_Severnyj_potok--213e6f17f4f9ff98215c08868ca9d6f0?lang=ru&rubric=society&fan=1&stid=SC4OS22ize1e_HnRe4ov&t=1662230792&tt=true&persistent_id=221653052&story=133c9a0e-288b-5171-b979-d3ed4cf0de74',\n",
       "  'time': '01:40'},\n",
       " 'Грузинское Минкультуры отвергло этот вывод и заявило, что не может запретить концерты в старом Дворце спорта, поскольку не управляет объектом: «Старый Дворец спорта уже много лет находится в частной собственности, вопрос проведения концерта в собственности частной компании выходит за рамки компетенции министерства».': {'link': 'https://yandex.ru/news/story/VGruzii_otvergli_svyaz_otmeny_koncertov_Makarevicha_i_Galkina_spolitikoj--7467a550c2257fb470df69ea8f849be6?lang=ru&rubric=society&fan=1&stid=vpSx1jlVoIJ5A7YOjUgG&t=1662230792&tt=true&persistent_id=221643844&story=d15604ca-8149-5665-b927-61d9a85173c7',\n",
       "  'time': '00:44'},\n",
       " 'Приграничный поселок Тёткино Курской области вновь обстреляли со стороны Украины, пострадавших нет, сообщил в своем Telegram-канале губернатор региона Роман Старовойт.': {'link': 'https://yandex.ru/news/story/Kurskij_gubernator_soobshhil_ob_obstrele_so_storony_Ukrainy_prigranichnogo_poselka_Tetkino--f6574d5a501cc508bbb8432e74c01eb8?lang=ru&rubric=society&fan=1&stid=l8gYqDFcb7g1-srcIWKG&t=1662230792&tt=true&persistent_id=221653600&story=6fd50d72-1a4e-5287-af6b-c4821041114b',\n",
       "  'time': '01:29'},\n",
       " 'По словам журналиста, с 24 февраля европейские страны заплатили России более €86 млрд - \"это €3 700 каждую секунду\".': {'link': 'https://yandex.ru/news/story/ZHurnalist_Lengle_Rossiya_zarabatyvaet_nanefti_i_gaze_3_700_vsekundu--d3715e687ce20b6a4aa2d0eb9395ebed?lang=ru&rubric=business&fan=1&stid=6djb2vI7eCyDSNsinENO&t=1662230792&tt=true&persistent_id=221655136&story=5ab2086a-11d9-582c-a568-d351a5a8d737',\n",
       "  'time': '01:33'},\n",
       " 'США больше всех выиграли от украинского кризиса и проблем с энергоресурсами в Европе, открыв огромный рынок для американских поставщиков газа и нанеся ущерб важной составляющей российского экспорта, пишет китайская государственная газета Global Times.': {'link': 'https://yandex.ru/news/story/Global_Times_SSHA_bolshe_vsekh_vyigrali_otehnergeticheskogo_krizisa_vEvrope--7a74d148741ad4dd50384786f928b48f?lang=ru&rubric=business&fan=1&stid=5Eg8zwJfpg6KPB_u0ef3&t=1662230792&tt=true&persistent_id=221652526&story=c9b0d609-6cf4-5531-abe4-37e6053ba9f4',\n",
       "  'time': '01:15'},\n",
       " 'Рост цен на энергию поставил шесть из десяти британских предприятий на грань закрытия, пишет Bloomberg со ссылкой на доклад группы Make UK, представляющей интересы промышленности.': {'link': 'https://yandex.ru/news/story/Bloomberg_60_britanskikh_zavodov_mogut_zakrytsya_vblizhajshee_vremya_iz-zacen_natoplivo--31047da87b655293fdfcf61548518af0?lang=ru&rubric=business&fan=1&stid=rm6uKOvmHW8CnsEDklBH&t=1662230792&tt=true&persistent_id=221638072&story=5e3cec61-e085-56ea-bc3e-859c01cd744a',\n",
       "  'time': '01:34'},\n",
       " 'Премьер-министр Швеции Магдалена Андерссон заявила, что страна рискует попасть в финансовый кризис в случае отсутствия мер по предотвращению проблем в этой сфере на фоне энергетического кризиса в Европе.': {'link': 'https://yandex.ru/news/story/Premer_SHvecii_Andersson_predupredila_oriske_finansovogo_krizisa_vstrane--d319b48e78206452e046137a2dfa1e42?lang=ru&rubric=business&fan=1&stid=bjTS5VPm-LUdBrpM4Zed&t=1662230792&tt=true&persistent_id=221652411&story=6765e2d3-aea2-5a67-9125-7b9ba5c3d81a',\n",
       "  'time': '00:37'},\n",
       " 'Китайская Народная Республика (КНР) начала продавать российский газ европейским странам с высокой наценкой, что означает косвенное нарушение эмбарго.': {'link': 'https://yandex.ru/news/story/VTurcii_zayavili_chto_Kitaj_prodaet_rossijskij_gaz_Evrope_svysokoj_nacenkoj--4a69dc271952e0ea6b8e025d920942e5?lang=ru&rubric=business&fan=1&stid=6FbNtSpfTRjv-wMThXfk&t=1662230792&tt=true&persistent_id=221634130&story=6408519b-57df-5b1e-8bf3-2c7761f4b2b2',\n",
       "  'time': '00:00'},\n",
       " 'Премьер Венгрии Виктор Орбан приехал в Москву и прибыл в Колонный зал Дома союзов, где проходит прощание с бывшим президентом СССР Михаилом Горбачевым, передает корреспондент РБК.': {'link': 'https://yandex.ru/news/story/Viktor_Orban_pribyl_naproshhanie_sGorbachevym--95076f42b853f49dd3c9f2a805f6449a?lang=ru&rubric=world&fan=1&stid=aA_lkJ1Y1BA3ycHxT-eE&t=1662230792&tt=true&persistent_id=221642467&story=9b5898b8-6da7-5f91-9dd0-a8dc712e4974',\n",
       "  'time': '18:28'},\n",
       " 'Президент России Владимир Путин смог посеять панику в Великобритании решением остановить \"Северный поток\" на неопределенный срок.': {'link': 'https://yandex.ru/news/story/Bloomberg_Putin_poseyal_paniku_vVelikobritanii_resheniem_oSevernom_potoke--751e963baad02c53d78a97a2903cb673?lang=ru&rubric=world&fan=1&stid=UKib4_WxVqq5&t=1662230792&persistent_id=221649118&story=e1cfc080-c343-5fd6-9eee-e8f482003486',\n",
       "  'time': '01:30'},\n",
       " 'Украинцы в Италии привязались к гражданину России с георгиевской ленточкой, пытаясь втянуть его в конфликт.': {'link': 'https://yandex.ru/news/story/Ukrainskie_patrioty_vItalii_pytalis_vtyanut_rossiyanina_vdraku--648b3d288da01ba4cb91df4b9c81bead?lang=ru&rubric=world&fan=1&stid=aFKS9Mx1HBGa0VpD&t=1662230792&persistent_id=221654648&story=fea05817-30ea-5c8c-94ac-248b8f9ac563',\n",
       "  'time': '01:14'},\n",
       " 'Издание пишет, что глава КНР настоятельно призвал производителей ускорить рабочий процесс и повысить эффективность труда.': {'link': 'https://yandex.ru/news/story/NYT_ZHelanie_dobitsya_tekhnologicheskogo_suvereniteta_KNR_stalkivaetsya_strudnostyami--2206f48006d447889174317d8b23431e?lang=ru&rubric=world&fan=1&stid=v_ocEuE0YsVafGTGbfsP&t=1662230792&persistent_id=221644236&story=873be44e-65a9-52a3-8614-b2b0fe50cf80',\n",
       "  'time': '00:57'},\n",
       " 'В Германии появился инцидент, из-за очередного повышения цен, связанный с известной компанией \"Coca-Cola\", передает информационный портал \"CT News\" со ссылкой на агентство \"Смотрим\".': {'link': 'https://yandex.ru/news/story/Korporacii_Coca-Cola_prigrozili_vygnat_izGermanii--fa97f53e20ca3b9aeebff22df5945d90?lang=ru&rubric=world&fan=1&stid=0_Yl&t=1662230792&persistent_id=221656219&story=453268e8-28bd-5a65-91e6-bb968edb82a2',\n",
       "  'time': '01:21'},\n",
       " '«Манчестер Сити» в гостевом матче 6‑го тура АПЛ сыграл вничью с «Астон Виллой» из Бирмингема.': {'link': 'https://yandex.ru/sport/story/Gol_KHolanda_ne_pomog_Manchester_Siti_pobedit_Aston_Villu_vAPL--a2a065ee3778a5a1059eaa013c24a664?lang=ru&rubric=sport&fan=1&stid=DMDsJ0KGMI4Z9Hbx6QFW&t=1662230792&persistent_id=221656222&story=6b76aac2-eba5-598e-91de-ea7b62d2818c&utm_source=yxnews&utm_medium=desktop',\n",
       "  'time': '01:40'},\n",
       " 'Гол Эдина Джеко на 67-й минуте не помог «Интеру» уйти от поражения.': {'link': 'https://yandex.ru/sport/story/Inter_ne_smog_ujti_otporazheniya_vmilanskom_derbi--b2ba1e65c38700198ad3e74d7aa24a88?lang=ru&rubric=sport&fan=1&stid=yj3hOdGCnM-DmBO8rdRM&t=1662230792&persistent_id=221655854&story=e37b5f8a-4658-55dc-8dee-468fdbb0b03c&utm_source=yxnews&utm_medium=desktop',\n",
       "  'time': '01:29'},\n",
       " '«Динамо» и «Урал» встречаются в матче 8-го тура Российской премьер-лиги (РПЛ). Встреча проходит в Москве.': {'link': 'https://yandex.ru/sport/story/Dinamo_i_Ural_igrayut_vnichyu_posle_pervogo_tajma_matcha_RPL--fa88f1591f50a67c8d75df1e0820c793?lang=ru&rubric=sport&fan=1&stid=_Eqa_wM5gbTSkSDtWGEB&t=1662230792&persistent_id=221587911&story=80ff978f-be3c-55b1-9700-39490fa4e222&utm_source=yxnews&utm_medium=desktop',\n",
       "  'time': '01:24'},\n",
       " 'Агент полузащитника «Волоса» Пауло Фернандеса Альберт Ботинес рассказал, что команда не хочет продавать футболиста в «Спартак» из-за Гильермо Абаскаля.': {'link': 'https://yandex.ru/sport/story/Agent_Fernandesa_Volos_ne_khochet_prodavat_Paulo_vSpartak_iz-zaAbaskalya--afd08bf83dd22ed2b9c5a0c13ff62ab8?lang=ru&rubric=sport&fan=1&stid=KeFpFA9KtWaZC3TPN4W9&t=1662230792&persistent_id=221655384&story=b81f60b0-8e59-56eb-bd12-29e9b748dad7&utm_source=yxnews&utm_medium=desktop',\n",
       "  'time': '01:39'},\n",
       " 'Украинская теннисистка Марта Костюк не обменялась рукопожатием с представительницей Беларуси Александрой Саснович в матче второго круга парного разряда Открытого чемпионата США.': {'link': 'https://yandex.ru/sport/story/Ukrainka_Kostyuk_ne_pozhala_ruku_beloruske_Sasnovich_naUS_Open--47534ccadb5e69f2c72c662d605395bd?lang=ru&rubric=sport&fan=1&stid=eNZ2v4Gc61yTbPf-xw3d&t=1662230792&tt=true&persistent_id=221591261&story=08c42e62-7658-5682-a54a-c7d4b3724a95&utm_source=yxnews&utm_medium=desktop',\n",
       "  'time': '01:37'},\n",
       " 'Взрыв боеприпаса произошел на выставке оружия, которую в субботу в городе Чернигове на севере Украины устроили военнослужащие территориальной обороны, в результате происшествия травмы получили пять человек, в том числе четверо детей.': {'link': 'https://yandex.ru/news/story/VCHernigove_otvzryva_navystavke_oruzhiya_postradali_chetvero_detej--bf190e6ddd787995c361aeba9817cb44?lang=ru&rubric=incident&fan=1&stid=-C5fJAE9R-wP5IcvnUIG&t=1662230792&tt=true&persistent_id=221648583&story=50387856-0b48-5c5a-985a-2c67aff77296',\n",
       "  'time': '01:36'},\n",
       " 'Вчера у посольства США в Москве был задержан шоумен Стас Барецкий.': {'link': 'https://yandex.ru/news/story/Stas_Bareckij_zayavil_chto_posle_zaderzhaniya_uposolstva_SSHA_emu_svetit_pyat_let--1a949e18cdfc201bfcb316da20c7e55c?lang=ru&rubric=incident&fan=1&stid=jDGdCX6AeBqY&t=1662230792&tt=true&persistent_id=221653239&story=a0d4131a-8cf2-5325-a6a3-d7408fadee5d',\n",
       "  'time': '01:18'},\n",
       " 'Пилот, угрожавший на легкомоторном самолете врезаться в магазин в США, приземлился в поле. Он задержан полицией.': {'link': 'https://yandex.ru/news/story/VSSHA_zaderzhan_pilot_ugrozhavshij_vrezatsya_nasamolete_vWalmart--7974caf33b303a1586b879ff58bac97c?lang=ru&rubric=incident&fan=1&stid=DiC0mHrvhUxEXczDTxb8&t=1662230792&tt=true&persistent_id=221653956&story=ff371bbc-94fd-5b76-9ca2-c6d4d86681e5',\n",
       "  'time': '01:37'},\n",
       " 'В Екатеринбурге сотрудника линейного отдела МВД России в аэропорту «Кольцово» задержали за разглашение секретных сведений.': {'link': 'https://yandex.ru/news/story/NaUrale_policejskogo_zaderzhali_zarazglashenie_sekretnykh_svedenij--adfb0e0f0c56f887075779cf09cf4e0a?lang=ru&rubric=incident&fan=1&stid=80O8gDckQEZqtThHccMJ&t=1662230792&tt=true&persistent_id=221638919&story=7d3f2bb0-5989-5b40-95cf-1d90a1955481',\n",
       "  'time': '22:46'},\n",
       " 'Мужчина бросил две бутылки с зажигательной смесью в отдел полиции в Ижевске.': {'link': 'https://yandex.ru/news/story/VIzhevske_muzhchina_napal_naotdel_policii_i_ranil_dvukh_patrulnykh--f4d5274d7dae1dfd8106049975adff84?lang=ru&rubric=incident&fan=1&stid=KLyzIaEYK3odSsD8ISxP&t=1662230792&tt=true&persistent_id=221640298&story=b1fdc3e7-47e7-54a5-bc73-8480df3dfa69',\n",
       "  'time': '21:22'},\n",
       " 'Тбилисский Дворец спорта отменил назначенные на осень концерты российского юмориста Максима Галкина и группы \"Машина времени\".': {'link': 'https://yandex.ru/news/story/Tbilisskij_Dvorec_sporta_otmenil_koncerty_Maksima_Galkina_i_gruppy_Mashina_vremeni--a3813901d25dec49ba96c8e7cfe57ce4?lang=ru&rubric=culture&fan=1&stid=MKq-7Iv0MpPlZFU9nYXG&t=1662230792&tt=true&persistent_id=221553403&story=c0d36acf-5d31-5bd5-b349-9638ace276cc',\n",
       "  'time': '00:33'},\n",
       " 'Генеральный директор Первого канала Константин Эрнст пообещал возвращение развлекательного контента в эфирную сетку вещания.': {'link': 'https://yandex.ru/news/story/Konstantin_EHrnst_zayavil_ovozvrashhenii_razvlekatelnykh_peredach_vveshhanie_Pervogo_kanala--b49a3d8c87b490d91d05990e57adfa45?lang=ru&rubric=culture&fan=1&stid=cNrCSYMvnpYyaOEuUYQp&t=1662230792&persistent_id=221627625&story=9a67501d-23dd-531a-ace1-9f5e6a8da6c4',\n",
       "  'time': '01:34'},\n",
       " 'Эдгард Запашный призвал россиян снисходительно отнестись к провокационному ролику Александра Гудкова «Я узкий».': {'link': 'https://yandex.ru/news/story/Zapashnyj_prosit_prostit_Gudkova_Obshhestvennogo_poricaniya_budet_dostatochno--091c5efcc3be5151457396990469eb19?lang=ru&rubric=culture&fan=1&stid=XhSW&t=1662230792&persistent_id=221656305&story=e0107684-a036-587a-b9f9-3cd91fbb0ef5',\n",
       "  'time': '01:38'},\n",
       " 'Телеканал «НТВ» 3 сентября выпустит в эфир премьерный выпуск нового развлекательного проекта.': {'link': 'https://yandex.ru/news/story/NTV_3_sentyabrya_pokazhet_premernyj_vypusk_novogo__SHou_Avatar--51ac8b41b41b81fd2c79a6f5c5350a2b?lang=ru&rubric=culture&fan=1&stid=Apf3ZrtYbo-rOYUVWvKu&t=1662230792&persistent_id=221617937&story=8a284eac-6d4a-5d97-b193-01eb98318289',\n",
       "  'time': '01:20'},\n",
       " 'Артистка сделала первый шаг в ответ на высказывания Михалкова, как отреагирует на него известный режиссер - вскоре покажет время.': {'link': 'https://yandex.ru/news/story/Pugacheva_reshila_vyyasnit_otnosheniya_sMikhalkovym_posle_ego_vyskazyvanij--e1e5f188b810d744b07e22be675023f8?lang=ru&rubric=culture&fan=1&stid=MW3A8ExHRGFhwSMrcwC9&t=1662230792&persistent_id=221654759&story=8b2ca474-51c5-5f28-a1a3-c54d440c1bcc',\n",
       "  'time': '01:12'},\n",
       " 'Протестированный Ryzen 9 7950X превосходно работает, предлагая примерно тот же уровень производительности, что и его конкурент Raptor Lake-S.': {'link': 'https://yandex.ru/news/story/AMD_Ryzen_9_7950X_protestirovali_vbenchmarke_Cinebench_R23--9ef7935f3b98eb8968424f7e00351fbe?lang=ru&rubric=computers&fan=1&stid=TDCbZDJ6&t=1662230792&persistent_id=221505196&story=4dfdf824-8db0-5356-9b14-c0895451abb7',\n",
       "  'time': '21:24'},\n",
       " 'В Samsung подтвердили взлом и утечку контактных данных своих пользователей в июле, отметив при этом, что номера кредитных карт и социального страхования не были затронуты.': {'link': 'https://yandex.ru/news/story/VSamsung_podtverdili_vzlom_i_utechku_kontaktnykh_dannykh_svoikh_polzovatelej_viyule--05319a0397e766ace67189479bb19207?lang=ru&rubric=computers&fan=1&stid=VEyI6lCckQSXiT5WPBKl&t=1662230792&persistent_id=221634313&story=3303e635-8661-50a2-930b-181e9f944a29',\n",
       "  'time': '01:20'},\n",
       " 'Сегодня, 3 сентября, Steam-версии BioShock получили патч для «повышения качества», который добавил в трилогию иммерсивных шутеров дополнительный лаунчер от 2K — с внутренним магазином издательства и с возможностью привязать к нему свой аккаунт.': {'link': 'https://yandex.ru/news/story/Novyj_patch_dlyaBioShock_slomal_dlyamnogikh_vse_tri_igry--4b0646bf72f44d245845c71d1cf3c671?lang=ru&rubric=computers&fan=1&stid=vYlFtnXS&t=1662230792&persistent_id=221644613&story=67077fc3-1d79-545f-bd5d-c84e16a69889',\n",
       "  'time': '23:10'},\n",
       " 'Принять участие в опросе можно до 1 октября 2022 года, а за ответы на все вопросы участники получат возможность загрузить тематические обои на рабочий стол.': {'link': 'https://yandex.ru/news/story/Capcom_predlagaet_projti_opros_poResident_Evil_Village--fdcfe516b44150d2e745c03a72d6aaf1?lang=ru&rubric=computers&fan=1&t=1662230792&persistent_id=221643302&story=b05e8651-9363-53e5-b356-dff1f4381d44',\n",
       "  'time': '00:50'},\n",
       " 'Американский хакер Бретт Шеннон Джонсон, который в прошлом работал на секретную службу США, рассказал, что главную опасность в интернете представляют специальные боты.': {'link': 'https://yandex.ru/news/story/Rabotavshij_naspecsluzhby_SSHA_khaker_Dzhonson_nazval_glavnuyu_opasnost_vinternete--aa30a8f73d1b8c11f26912ea48b38f4f?lang=ru&rubric=computers&fan=1&stid=hPYGKyf7TI7-L3YF&t=1662230792&persistent_id=221647626&story=ba239d40-797a-5812-b8c1-03a324273598',\n",
       "  'time': '01:02'},\n",
       " 'Как рассказывает журнал Science Advances, дешевый пластик и лазер позволили воспроизвести процессы, напоминающие алмазные дожди планеты Нептун.': {'link': 'https://yandex.ru/news/story/Science_Advances_uchenye_ES_vossozdali_almaznyj_dozhd_naledyanom_gigante_Neptune--03c91f8b1817f27509885a93be6ab581?lang=ru&rubric=science&fan=1&stid=LW6kvukr2lPm8cxxr31x&t=1662230792&persistent_id=221632684&story=50ecc2a9-67fb-5fb7-bd44-6ec56e81bd8f',\n",
       "  'time': '21:07'},\n",
       " 'Ученые из Российской академии наук и Академии наук Монголии обнаружили следы древнего человека в карстовых пещерах Монголии на юге озера Хубсугул.': {'link': 'https://yandex.ru/news/story/Karstovye_peshhery_Mongolii_sokhranili_sledy_drevnikh_lyudej--df61d0ed9138778036b3e96a6e30f709?lang=ru&rubric=science&fan=1&stid=Y-kDoMHQELkykeTAZPvB&t=1662230792&persistent_id=221610616&story=f998aac7-0a4c-5ab8-962f-91baf6520b61',\n",
       "  'time': '01:22'},\n",
       " 'Криминалисты из Западной Австралии провели эксперимент с почти 70 образцами трупов в чемоданах, чтобы выяснить, как они будут разлагаться и каких насекомых привлекут.': {'link': 'https://yandex.ru/news/story/VAvstralii_proshel_ehksperiment_porazlozheniyu_trupov_vchemodanakh--6612601710e6e37e4a03bf3067a9db81?lang=ru&rubric=science&fan=1&stid=Np-HJghJDV0mWu6D0xKi&t=1662230792&persistent_id=221530104&story=0efd5683-6375-546a-a99e-63af3f04f34a',\n",
       "  'time': '19:35'},\n",
       " 'Как была построена Великая пирамида в египетской Гизе, веками оставалось загадкой.': {'link': 'https://yandex.ru/news/story/Razgadana_zagadka_stroitelstva_Velikoj_egipetskoj_piramidy_vGize--8d4e9349e8222debcb8da0322d3628c1?lang=ru&rubric=science&fan=1&stid=kVeeFWv3cB6AJynR7DkX&t=1662230792&persistent_id=221470121&story=3189c802-4d3e-5aff-ae3a-ddf28f82baea',\n",
       "  'time': '01:34'},\n",
       " 'В рамках анализа, результаты которого опубликованы в журнале Nature Plants, выяснилось, что папоротники на протяжении миллионов лет крали ДНК у других организмов.': {'link': 'https://yandex.ru/news/story/Nature_Plants_odnosporovye_paporotniki_milliony_let_voruyut_DNK_ubakterij--9d6b7d327f4d9d35c960d2997d1825e4?lang=ru&rubric=science&fan=1&stid=XQJZV7FP-IOzATkZxF7b&t=1662230792&persistent_id=221590755&story=20d72a92-9b62-55bd-809e-7bca65ef74e3',\n",
       "  'time': '18:24'},\n",
       " 'Ульяновский автозавод начал продавать модель Хантер и «Буханку» с двигателем нулевого экологического класса.': {'link': 'https://yandex.ru/news/story/UAZ_nachal_prodavat_mashiny_sdvigatelem_Evro-0--42831872bafdc6311c72eb684795a82a?lang=ru&rubric=auto&fan=1&stid=y_r_6z7Pfgc1dc1EqzbW&t=1662230792&persistent_id=221642240&story=e75e791d-1ccf-575b-b044-a8f3c412eb62',\n",
       "  'time': '01:20'},\n",
       " 'Китайский офис международного маркетингового агентства J.D. Power & Associates опубликовал рейтинг качества новых автомобилей.': {'link': 'https://yandex.ru/news/story/Changan_priznan_samym_kachestvennym_avtomobilem_izKitaya_poversii_J.D._Power--c688394aba46ed90fea03a1a152f2ebc?lang=ru&rubric=auto&fan=1&stid=V_2963H3EmlHurwSU-nt&t=1662230792&persistent_id=221379519&story=4f01d76d-103d-5f36-b73a-d9dcd4e629fb',\n",
       "  'time': '01:22'},\n",
       " 'КАМАЗ сегодня выпускает грузовики с разными типами силовых установок.': {'link': 'https://yandex.ru/news/story/KAMAZ_prodolzhit_proizvodstvo_gruzovikov_nesmotrya_naprekrashhenie_postavok_izKNR--ed9c31c28f12dd290aaf10f01c26a0c0?lang=ru&rubric=auto&fan=1&stid=RsqB1sQHjaNuos9zbJM3&t=1662230792&persistent_id=221646425&story=272c8393-02c4-5ece-a7d5-133dd50b0146',\n",
       "  'time': '00:59'},\n",
       " 'Директор по развитию бизнеса «Яндекса» Иван Запольский направил в адрес президента АВТОВАЗа Максима Соколова письмо, в котором сообщил, что «Яндекс Такси» ищет поставщиков автомобилей для ключевых сервисов и деловых партнеров.': {'link': 'https://yandex.ru/news/story/YAndeks_prosit_AVTOVAZ_pomoch_savtomobilyami_dlyataksi--7a76837677dc054e7c9436eb30d4bd63?lang=ru&rubric=auto&fan=1&stid=yT8NvWV0yJLvcFNgrDTY&t=1662230792&persistent_id=221595679&story=179d11fa-6871-5bb1-b89e-4f9c19983aea',\n",
       "  'time': '17:05'},\n",
       " 'Компания Kia объявила цены на обновленный флагманский седан K900, получивший сокращенное название K9.': {'link': 'https://yandex.ru/news/story/Kompaniya_KIA_obyavila_komplektacii_i_ceny_nanovyj_flagmanskij_sedan_KIA_K9_dlyarynka_RF--c0478a93a7f0560156e384759e4ab7c1?lang=ru&rubric=auto&fan=1&stid=66Bf8jCjDvElhuwIzBAk&t=1662230792&persistent_id=221630210&story=a247e067-2241-512b-9bf9-f525b9738eb4',\n",
       "  'time': '01:09'}}"
      ]
     },
     "execution_count": 274,
     "metadata": {},
     "output_type": "execute_result"
    }
   ],
   "source": [
    "news_lent_y"
   ]
  },
  {
   "cell_type": "code",
   "execution_count": null,
   "id": "1cb7de78",
   "metadata": {},
   "outputs": [],
   "source": []
  }
 ],
 "metadata": {
  "kernelspec": {
   "display_name": "Python 3 (ipykernel)",
   "language": "python",
   "name": "python3"
  },
  "language_info": {
   "codemirror_mode": {
    "name": "ipython",
    "version": 3
   },
   "file_extension": ".py",
   "mimetype": "text/x-python",
   "name": "python",
   "nbconvert_exporter": "python",
   "pygments_lexer": "ipython3",
   "version": "3.9.7"
  }
 },
 "nbformat": 4,
 "nbformat_minor": 5
}
