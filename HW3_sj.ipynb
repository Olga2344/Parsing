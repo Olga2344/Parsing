{
 "cells": [
  {
   "cell_type": "code",
   "execution_count": 257,
   "id": "7ff306f3",
   "metadata": {},
   "outputs": [],
   "source": [
    "from pprint import pprint\n",
    "from bs4 import BeautifulSoup as bs\n",
    "import requests\n",
    "from time import sleep\n",
    "import pandas"
   ]
  },
  {
   "cell_type": "code",
   "execution_count": 258,
   "id": "684eabbb",
   "metadata": {},
   "outputs": [],
   "source": [
    "headers = {\n",
    "    'User-Agent':\t'Mozilla/5.0 (Windows NT 10.0; Win64; x64; rv:104.0) Gecko/20100101 Firefox/104.0',\n",
    "}\n",
    "first_pg_sj='https://www.superjob.ru/vakansii/shveya.html?geo%5Bt%5D%5B0%5D=4'"
   ]
  },
  {
   "cell_type": "code",
   "execution_count": 196,
   "id": "149d7d16",
   "metadata": {},
   "outputs": [],
   "source": [
    "response = requests.get(first_pg_sj, headers=headers) \n",
    "soup = bs(response.content, 'html.parser')\n",
    "tag_main_div=soup.find_all('div', {'class': '_2J-3z _3B5DQ'})\n",
    "tag_a_name=tag_main_div[0].find('a').text"
   ]
  },
  {
   "cell_type": "code",
   "execution_count": 259,
   "id": "aff58a54",
   "metadata": {},
   "outputs": [],
   "source": [
    "def total_parsing_sj(first_pg, headers, result=[]):\n",
    "\n",
    "    response = requests.get(first_pg, headers=headers) \n",
    "    \n",
    "    if response.status_code != 200:\n",
    "        print('Парсинг завершен')\n",
    "        return result\n",
    "    soup = bs(response.content, 'html.parser')\n",
    "    tag_main_div=soup.find_all('div', {'class': '_2J-3z _3B5DQ'})\n",
    "    for vacancy in tag_main_div:\n",
    "        result.append(vac_parsing(vacancy))\n",
    "    \n",
    "    link_next_page = soup.find('a', {'class': '_1IHWd _6Nb0L _37aW8 _1Sycm f-test-button-dalshe f-test-link-Dalshe'})\n",
    "    if link_next_page:\n",
    "        link_next_page =  'https://www.superjob.ru/' + link_next_page['href']\n",
    "        \n",
    "    else:\n",
    "        print('Парсинг завершен')\n",
    "        return result\n",
    "    result=total_parsing_sj(link_next_page, headers,result)                        \n",
    "    return result\n",
    "    "
   ]
  },
  {
   "cell_type": "code",
   "execution_count": 260,
   "id": "03c9e466",
   "metadata": {},
   "outputs": [],
   "source": [
    "hh_vcncy_list=[]\n",
    "def salary_split(tag_span_salary, vac_min_salary=None, vac_max_salary=None, currency=None):\n",
    "    sleep(0.1)\n",
    "    tag_span_salary=tag_span_salary.split('\\xa0')\n",
    "    \n",
    "    if tag_span_salary[2]=='—':\n",
    "        vac_max_salary=int(tag_span_salary[3]+tag_span_salary[4])\n",
    "        vac_min_salary=int(tag_span_salary[0]+tag_span_salary[1])\n",
    "        \n",
    "    elif  len(tag_span_salary)==3:\n",
    "        if (tag_span_salary[0]=='от' or tag_span_salary[0]=='до')and tag_span_salary[2]=='руб.':\n",
    "            vac_max_salary=int(tag_span_salary[1])\n",
    "            vac_min_salary=int(tag_span_salary[1])\n",
    "            \n",
    "    elif tag_span_salary[0]=='до':        \n",
    "        vac_max_salary=(tag_span_salary[1] + tag_span_salary[2])\n",
    "        \n",
    "    elif tag_span_salary[0]=='от':\n",
    "        vac_min_salary=(tag_span_salary[1] + tag_span_salary[2])\n",
    "        \n",
    "    currency=tag_span_salary[-1]\n",
    "        \n",
    "    \n",
    "    return vac_min_salary, vac_max_salary, currency\n",
    "def vac_parsing(tag_main_div):\n",
    "    sleep(0.1)\n",
    "    if tag_main_div.find('a'):\n",
    "        tag_a_name=tag_main_div.find('a').text\n",
    "        tag_a_vcnc_link='https://www.superjob.ru'+tag_main_div.find('a')['href']\n",
    "    else: \n",
    "        return\n",
    "    \n",
    "\n",
    "    if tag_main_div.find('span', {'class', '_2eYAG _1nqY_ _249GZ _1jb_5 _1dIgi'}):\n",
    "        tag_span_salary=tag_main_div.find('span', {'class', '_2eYAG _1nqY_ _249GZ _1jb_5 _1dIgi'}).text\n",
    "\n",
    "        if tag_span_salary!='По договорённости':\n",
    "              vac_min_salary, vac_max_salary, currency=salary_split(tag_span_salary)\n",
    "        else:\n",
    "            vac_min_salary, vac_max_salary, currency=None,None,None\n",
    "            \n",
    "    else:\n",
    "        return\n",
    "        \n",
    "    \n",
    "    return {\n",
    "        'name': tag_a_name,\n",
    "        'min salary': vac_min_salary,\n",
    "        'max salary': vac_max_salary,\n",
    "        'currency': currency,\n",
    "        'vac_link': tag_a_vcnc_link,\n",
    "        'site':'https://www.superjob.ru'\n",
    "        }"
   ]
  },
  {
   "cell_type": "code",
   "execution_count": 261,
   "id": "be2ff58a",
   "metadata": {},
   "outputs": [
    {
     "name": "stdout",
     "output_type": "stream",
     "text": [
      "Парсинг завершен\n"
     ]
    }
   ],
   "source": [
    "result=total_parsing_sj(first_pg_sj,headers)"
   ]
  },
  {
   "cell_type": "code",
   "execution_count": 265,
   "id": "cfb7605d",
   "metadata": {},
   "outputs": [],
   "source": [
    "fine=list(filter(None, result))"
   ]
  },
  {
   "cell_type": "code",
   "execution_count": 266,
   "id": "ae752446",
   "metadata": {},
   "outputs": [],
   "source": [
    "data_frame_sj = pandas.DataFrame(fine) \n",
    "\n",
    "data_frame_sj.to_csv('sj.csv') "
   ]
  },
  {
   "cell_type": "code",
   "execution_count": null,
   "id": "2b66f38f",
   "metadata": {},
   "outputs": [],
   "source": []
  }
 ],
 "metadata": {
  "kernelspec": {
   "display_name": "Python 3 (ipykernel)",
   "language": "python",
   "name": "python3"
  },
  "language_info": {
   "codemirror_mode": {
    "name": "ipython",
    "version": 3
   },
   "file_extension": ".py",
   "mimetype": "text/x-python",
   "name": "python",
   "nbconvert_exporter": "python",
   "pygments_lexer": "ipython3",
   "version": "3.9.7"
  }
 },
 "nbformat": 4,
 "nbformat_minor": 5
}
