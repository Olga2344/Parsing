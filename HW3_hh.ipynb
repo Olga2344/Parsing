{
 "cells": [
  {
   "cell_type": "code",
   "execution_count": 304,
   "id": "7ff306f3",
   "metadata": {},
   "outputs": [],
   "source": [
    "from pprint import pprint\n",
    "from bs4 import BeautifulSoup as bs\n",
    "import requests\n",
    "from time import sleep\n",
    "import pandas"
   ]
  },
  {
   "cell_type": "code",
   "execution_count": 313,
   "id": "684eabbb",
   "metadata": {},
   "outputs": [],
   "source": [
    "headers = {\n",
    "    'User-Agent':\t'Mozilla/5.0 (Windows NT 10.0; Win64; x64; rv:104.0) Gecko/20100101 Firefox/104.0',\n",
    "}\n",
    "first_pg_hh='https://www.superjob.ru/vakansii/shveya.html?geo%5Bt%5D%5B0%5D=4'"
   ]
  },
  {
   "cell_type": "code",
   "execution_count": 347,
   "id": "aff58a54",
   "metadata": {},
   "outputs": [],
   "source": [
    "def total_parsing_hh(first_pg, headers, result=[]):\n",
    "\n",
    "    response = requests.get(first_pg, headers=headers) \n",
    "    \n",
    "    if response.status_code != 200:\n",
    "        print('Парсинг завершен')\n",
    "        return result\n",
    "    soup = bs(response.content, 'html.parser')\n",
    "    tag_main_div=soup.find_all('div', {'class': 'vacancy-serp-item__layout'})\n",
    "    for vacancy in tag_main_div:\n",
    "        result.append(vac_parsing(vacancy))\n",
    "    \n",
    "    link_next_page = soup.find('a', {'data-qa': 'pager-next'})\n",
    "    if link_next_page:\n",
    "        link_next_page =  'https://hh.ru' + link_next_page['href']\n",
    "        \n",
    "    else:\n",
    "        print('Парсинг завершен')\n",
    "        return result\n",
    "    result=total_parsing_hh(link_next_page, headers,result)                        \n",
    "    return result\n",
    "    "
   ]
  },
  {
   "cell_type": "code",
   "execution_count": 346,
   "id": "03c9e466",
   "metadata": {},
   "outputs": [],
   "source": [
    "hh_vcncy_list=[]\n",
    "def salary_split(tag_span_salary, vac_min_salary=None, vac_max_salary=None, currency=None):\n",
    "    sleep(0.1)\n",
    "    tag_span_salary=tag_span_salary.text.replace('\\u202f','').split()   \n",
    "    if tag_span_salary[1]=='–':\n",
    "        vac_max_salary=tag_span_salary[2]\n",
    "        vac_min_salary=tag_span_salary[0]       \n",
    "    elif  tag_span_salary[0]=='до':\n",
    "        vac_max_salary=tag_span_salary[1]        \n",
    "    elif tag_span_salary[0]=='от':\n",
    "        vac_min_salary=tag_span_salary[1]    \n",
    "    currency=tag_span_salary[-1]\n",
    "        \n",
    "    \n",
    "    return vac_min_salary, vac_max_salary, currency\n",
    "def vac_parsing(tag_main_div):\n",
    "    sleep(0.1)\n",
    "\n",
    "    tag_a_name=tag_main_div.find('a').text.strip()\n",
    "\n",
    "    tag_span_salary=tag_main_div.find('span', {'class', 'bloko-header-section-3'})\n",
    "    if tag_span_salary:\n",
    "          vac_min_salary, vac_max_salary, currency=salary_split(tag_span_salary)\n",
    "    else:\n",
    "        vac_min_salary, vac_max_salary, currency=None,None,None\n",
    "    tag_a_vcnc_link=tag_main_div.find('a')['href']\n",
    "    \n",
    "    return {\n",
    "        'name': tag_a_name,\n",
    "        'min salary': vac_min_salary,\n",
    "        'max salary': vac_max_salary,\n",
    "        'currency': currency,\n",
    "        'vac_link': tag_a_vcnc_link,\n",
    "        'site':'https://hh.ru'\n",
    "        }"
   ]
  },
  {
   "cell_type": "code",
   "execution_count": 348,
   "id": "be2ff58a",
   "metadata": {},
   "outputs": [
    {
     "name": "stdout",
     "output_type": "stream",
     "text": [
      "Парсинг завершен\n"
     ]
    }
   ],
   "source": [
    "result=total_parsing_hh(first_pg_hh,headers)"
   ]
  },
  {
   "cell_type": "code",
   "execution_count": 350,
   "id": "ad1668a8",
   "metadata": {},
   "outputs": [
    {
     "data": {
      "text/plain": [
       "380"
      ]
     },
     "execution_count": 350,
     "metadata": {},
     "output_type": "execute_result"
    }
   ],
   "source": [
    "len(result)"
   ]
  },
  {
   "cell_type": "code",
   "execution_count": 351,
   "id": "cfb7605d",
   "metadata": {},
   "outputs": [
    {
     "data": {
      "text/plain": [
       "{'name': 'Швея/портной-универсал',\n",
       " 'min salary': '60000',\n",
       " 'max salary': '110000',\n",
       " 'currency': 'руб.',\n",
       " 'vac_link': 'https://hh.ru/vacancy/69675667?query=%D1%88%D0%B2%D0%B5%D1%8F',\n",
       " 'site': 'https://hh.ru'}"
      ]
     },
     "execution_count": 351,
     "metadata": {},
     "output_type": "execute_result"
    }
   ],
   "source": [
    "result[0]"
   ]
  },
  {
   "cell_type": "code",
   "execution_count": 352,
   "id": "ae752446",
   "metadata": {},
   "outputs": [],
   "source": [
    "data_frame_hh = pandas.DataFrame(result) \n",
    "\n",
    "data_frame_hh.to_csv('hh.csv') "
   ]
  },
  {
   "cell_type": "code",
   "execution_count": 233,
   "id": "f8d4e446",
   "metadata": {},
   "outputs": [],
   "source": [
    "soup = bs(response.content, 'html.parser')"
   ]
  },
  {
   "cell_type": "code",
   "execution_count": 239,
   "id": "ebc7787a",
   "metadata": {},
   "outputs": [
    {
     "data": {
      "text/plain": [
       "50"
      ]
     },
     "execution_count": 239,
     "metadata": {},
     "output_type": "execute_result"
    }
   ],
   "source": [
    "tag_main_div=soup.find_all('div', {'class': 'vacancy-serp-item__layout'})\n",
    "\n",
    "len(tag_main_div)"
   ]
  },
  {
   "cell_type": "code",
   "execution_count": 265,
   "id": "db99f23b",
   "metadata": {},
   "outputs": [
    {
     "data": {
      "text/plain": [
       "'Швея ученик'"
      ]
     },
     "execution_count": 265,
     "metadata": {},
     "output_type": "execute_result"
    }
   ],
   "source": [
    "tag_a_name=tag_main_div[3].find('a').text\n",
    "tag_a_name"
   ]
  },
  {
   "cell_type": "code",
   "execution_count": 287,
   "id": "7f89830d",
   "metadata": {},
   "outputs": [
    {
     "data": {
      "text/plain": [
       "['60000', '–', '120000', 'руб.']"
      ]
     },
     "execution_count": 287,
     "metadata": {},
     "output_type": "execute_result"
    }
   ],
   "source": [
    "tag_span_salary=tag_main_div[0].find('span', {'class', 'bloko-header-section-3'}).text\n",
    "tag_span_salary.replace('\\u202f','').split()"
   ]
  },
  {
   "cell_type": "code",
   "execution_count": 267,
   "id": "79b049cb",
   "metadata": {},
   "outputs": [
    {
     "data": {
      "text/plain": [
       "'https://hh.ru/vacancy/69488501?query=%D1%88%D0%B2%D0%B5%D1%8F'"
      ]
     },
     "execution_count": 267,
     "metadata": {},
     "output_type": "execute_result"
    }
   ],
   "source": [
    "tag_a_vcnc_link=tag_main_div[3].find('a')['href']\n",
    "tag_a_vcnc_link"
   ]
  },
  {
   "cell_type": "code",
   "execution_count": null,
   "id": "a941d8a0",
   "metadata": {},
   "outputs": [],
   "source": []
  }
 ],
 "metadata": {
  "kernelspec": {
   "display_name": "Python 3 (ipykernel)",
   "language": "python",
   "name": "python3"
  },
  "language_info": {
   "codemirror_mode": {
    "name": "ipython",
    "version": 3
   },
   "file_extension": ".py",
   "mimetype": "text/x-python",
   "name": "python",
   "nbconvert_exporter": "python",
   "pygments_lexer": "ipython3",
   "version": "3.9.7"
  }
 },
 "nbformat": 4,
 "nbformat_minor": 5
}
